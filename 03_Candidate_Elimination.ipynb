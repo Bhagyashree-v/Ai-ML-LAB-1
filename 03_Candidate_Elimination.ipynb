{
  "nbformat": 4,
  "nbformat_minor": 0,
  "metadata": {
    "colab": {
      "name": "Candidate_Elimination.ipynb",
      "provenance": [],
      "collapsed_sections": []
    },
    "kernelspec": {
      "name": "python3",
      "display_name": "Python 3"
    },
    "language_info": {
      "name": "python"
    }
  },
  "cells": [
    {
      "cell_type": "markdown",
      "metadata": {
        "id": "Bw1RfOxsIh6D"
      },
      "source": [
        "**3.For a given set of training data examples stored in a .CSV file, implement and demonstrate the Candidate-Elimination algorithmto output a description of the set of all hypotheses consistent\n",
        "  with the training examples.**"
      ]
    },
    {
      "cell_type": "markdown",
      "metadata": {
        "id": "zynz9JutIzhu"
      },
      "source": [
        "**ALGORITHM CONCEPT**"
      ]
    },
    {
      "cell_type": "markdown",
      "metadata": {
        "id": "3vvgdnSGI3n3"
      },
      "source": [
        "\n",
        "**Step1:**Load Data set\n",
        "\n",
        "**Step2:** Initialize General Hypothesis  and Specific  Hypothesis.\n",
        "\n",
        "**Step3:** For each training example \n",
        "\n",
        "**Step4:** If example is positive example \n",
        "\n",
        "if attribute_value == hypothesis_value:\n",
        "\n",
        "Do nothing \n",
        "\n",
        "else:\n",
        "\n",
        "replace attribute value with '?' (Basically generalizing it)\n",
        "\n",
        "**Step5:** If example is Negative example \n",
        "\n",
        "Make generalize hypothesis more specific."
      ]
    },
    {
      "cell_type": "markdown",
      "metadata": {
        "id": "q3gQZdohD8SB"
      },
      "source": [
        "##NumPy\n",
        "\n",
        "**What is NumPy?**\n",
        "\n",
        "NumPy is the fundamental package for scientific \n",
        "computing in Python. It is a Python library that provides a multidimensional array object, various derived objects (such as masked arrays and matrices), and an assortment of routines for fast operations on arrays, including mathematical, logical, shape manipulation, sorting, selecting, I/O, discrete Fourier transforms, basic linear algebra, basic statistical operations, random simulation and much more.\n"
      ]
    },
    {
      "cell_type": "markdown",
      "metadata": {
        "id": "Teu53B-JGOSX"
      },
      "source": [
        "****\n",
        "                                                       Installing NumPy Library \n",
        "****\n",
        "**Installing through Notebook:**\n",
        "`!pip install numpy`\n",
        "****\n",
        "**Installing through terminal:** \n",
        "`pip install numpy`\n",
        "\n",
        "**Note:** no need to include ! character while installing through terminal\n"
      ]
    },
    {
      "cell_type": "code",
      "metadata": {
        "id": "R9-g-smm97l1"
      },
      "source": [
        "import numpy as np"
      ],
      "execution_count": 2,
      "outputs": []
    },
    {
      "cell_type": "markdown",
      "metadata": {
        "id": "1wkXSGUTIMIB"
      },
      "source": [
        "**What Is Pandas In Python?**\n",
        "\n",
        "Pandas is an open source Python package that is most widely used for data science/data analysis and machine learning tasks. It is built on top of another package named Numpy, which provides support for multi-dimensional arrays. As one of the most popular data wrangling packages, Pandas works well with many other data science modules inside the Python ecosystem, and is typically included in every Python distribution, from those that come with your operating system to commercial vendor distributions like ActiveState’s ActivePython. \n",
        "\n"
      ]
    },
    {
      "cell_type": "markdown",
      "metadata": {
        "id": "IiSbaVf6IVub"
      },
      "source": [
        "****\n",
        "                                                       Installing pandas Library \n",
        "****\n",
        "**Installing through Notebook:**\n",
        "`!pip install pandas`\n",
        "****\n",
        "**Installing through terminal:** \n",
        "`pip install pandas`\n",
        "\n",
        "**Note:** no need to include ! character while installing through terminal\n"
      ]
    },
    {
      "cell_type": "code",
      "metadata": {
        "id": "r6ahyxy--Eal"
      },
      "source": [
        "import pandas as pd"
      ],
      "execution_count": 3,
      "outputs": []
    },
    {
      "cell_type": "markdown",
      "metadata": {
        "id": "AzcynK31JWkW"
      },
      "source": [
        "Importing of dataset."
      ]
    },
    {
      "cell_type": "code",
      "metadata": {
        "id": "PpHXVSWn-G8z"
      },
      "source": [
        "data = pd.DataFrame(data=pd.read_csv('enjoysport.csv'))"
      ],
      "execution_count": 6,
      "outputs": []
    },
    {
      "cell_type": "markdown",
      "metadata": {
        "id": "zwmAHk2LJe0z"
      },
      "source": [
        "printing of csv data."
      ]
    },
    {
      "cell_type": "code",
      "metadata": {
        "colab": {
          "base_uri": "https://localhost:8080/"
        },
        "id": "MJ0SLueKAFQG",
        "outputId": "356ec960-2f4b-44be-8173-637e3c731c32"
      },
      "source": [
        "print(data)"
      ],
      "execution_count": 7,
      "outputs": [
        {
          "output_type": "stream",
          "name": "stdout",
          "text": [
            "     sky airtemp humidity    wind water forcast enjoysport\n",
            "0  sunny    warm   normal  strong  warm    same        yes\n",
            "1  sunny    warm     high  strong  warm    same        yes\n",
            "2  rainy    cold     high  strong  warm  change         no\n",
            "3  sunny    warm     high  strong  cool  change        yes\n"
          ]
        }
      ]
    },
    {
      "cell_type": "markdown",
      "metadata": {
        "id": "ckEEv27_JoFB"
      },
      "source": [
        "Accessing the data of the location first row excluding last last data value."
      ]
    },
    {
      "cell_type": "code",
      "metadata": {
        "id": "JFUEO4Xj95ze"
      },
      "source": [
        "concepts = np.array(data.iloc[:,0:-1])"
      ],
      "execution_count": 8,
      "outputs": []
    },
    {
      "cell_type": "markdown",
      "metadata": {
        "id": "WgSBuz-NKxRn"
      },
      "source": [
        "accessing the data of targeted value."
      ]
    },
    {
      "cell_type": "code",
      "metadata": {
        "id": "pCK1TIeI_gbg"
      },
      "source": [
        "target = np.array(data.iloc[:,-1])"
      ],
      "execution_count": 9,
      "outputs": []
    },
    {
      "cell_type": "markdown",
      "metadata": {
        "id": "XSNzo6BOK56T"
      },
      "source": [
        "printing all target values"
      ]
    },
    {
      "cell_type": "code",
      "metadata": {
        "colab": {
          "base_uri": "https://localhost:8080/"
        },
        "id": "Xw8t25fw_j0m",
        "outputId": "33457a9d-a475-4614-d6a6-60374a58a427"
      },
      "source": [
        "print(target)"
      ],
      "execution_count": 11,
      "outputs": [
        {
          "output_type": "stream",
          "name": "stdout",
          "text": [
            "['yes' 'yes' 'no' 'yes']\n"
          ]
        }
      ]
    },
    {
      "cell_type": "markdown",
      "metadata": {
        "id": "RCqAnI8SLOAS"
      },
      "source": [
        "printing all concepts."
      ]
    },
    {
      "cell_type": "code",
      "metadata": {
        "colab": {
          "base_uri": "https://localhost:8080/"
        },
        "id": "kdGCWAz-_mnK",
        "outputId": "5ed94378-91b9-41a8-dcf7-245785c2863d"
      },
      "source": [
        "print(concepts)"
      ],
      "execution_count": 12,
      "outputs": [
        {
          "output_type": "stream",
          "name": "stdout",
          "text": [
            "[['sunny' 'warm' 'normal' 'strong' 'warm' 'same']\n",
            " ['sunny' 'warm' 'high' 'strong' 'warm' 'same']\n",
            " ['rainy' 'cold' 'high' 'strong' 'warm' 'change']\n",
            " ['sunny' 'warm' 'high' 'strong' 'cool' 'change']]\n"
          ]
        }
      ]
    },
    {
      "cell_type": "markdown",
      "metadata": {
        "id": "bOU_rFVcLodH"
      },
      "source": [
        "Here we will be comparing all specific and general values."
      ]
    },
    {
      "cell_type": "code",
      "metadata": {
        "colab": {
          "base_uri": "https://localhost:8080/"
        },
        "id": "tyex71YPBJy6",
        "outputId": "93718c73-1db2-4ec9-dfaa-f337fe21c229"
      },
      "source": [
        "def learn(concepts, target):\n",
        "    specific_h = concepts[0].copy()\n",
        "\n",
        "    general_h = [[\"?\" for i in range(len(specific_h))] for i in range(len(specific_h))]\n",
        "    for i, h in enumerate(concepts):\n",
        "        if target[i] == \"yes\":\n",
        "\n",
        "            for x in range(len(specific_h)):\n",
        "\n",
        "                #print(\"h[x]\",h[x])\n",
        "\n",
        "                if h[x] != specific_h[x]:\n",
        "\n",
        "                    specific_h[x] = '?'\n",
        "\n",
        "                    general_h[x][x] = '?'\n",
        "        if target[i] == \"no\":\n",
        "\n",
        "            for x in range(len(specific_h)):\n",
        "\n",
        "                if h[x] != specific_h[x]:\n",
        "\n",
        "                    general_h[x][x] = specific_h[x]\n",
        "\n",
        "                else:\n",
        "\n",
        "                    general_h[x][x] = '?'\n",
        "\n",
        "    indices = [i for i, val in enumerate(general_h) if val == ['?', '?', '?', '?', '?', '?']]\n",
        "\n",
        "    print(\"\\nIndices\",indices)\n",
        "\n",
        "    for i in indices:\n",
        "\n",
        "        general_h.remove(['?', '?', '?', '?', '?', '?'])\n",
        "\n",
        "    return specific_h, general_h\n",
        "\n",
        "s_final,g_final = learn(concepts, target)\n",
        "\n",
        "print(\"\\nFinal Specific_h:\", s_final, sep=\"\\n\")\n",
        "\n",
        "print(\"Final General_h:\", g_final, sep=\"\\n\")"
      ],
      "execution_count": 35,
      "outputs": [
        {
          "output_type": "stream",
          "name": "stdout",
          "text": [
            "\n",
            "Indices [2, 3, 4, 5]\n",
            "\n",
            "Final Specific_h:\n",
            "['sunny' 'warm' '?' 'strong' '?' '?']\n",
            "Final General_h:\n",
            "[['sunny', '?', '?', '?', '?', '?'], ['?', 'warm', '?', '?', '?', '?']]\n"
          ]
        }
      ]
    }
  ]
}